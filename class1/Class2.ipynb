{
 "cells": [
  {
   "cell_type": "markdown",
   "metadata": {},
   "source": [
    "# 数组\n",
    "## 数组是一种广泛存在的数据结构，不仅仅是在一些通用的编程语言里，甚至在excel里也存在。\n",
    "## 其数学含义是向量，以及由向量组成的矩阵。这意味着所有的向量和矩阵的数学特性均可以在numpy里面实现，这个特点和matlab非常相似\n",
    "## 其实际作用在于能够把一组数据进行通用化处理\n",
    "\n"
   ]
  },
  {
   "cell_type": "code",
   "execution_count": null,
   "metadata": {},
   "outputs": [],
   "source": [
    "#导入numpy\n",
    "import numpy as np"
   ]
  },
  {
   "cell_type": "code",
   "execution_count": 4,
   "metadata": {},
   "outputs": [
    {
     "name": "stdout",
     "output_type": "stream",
     "text": [
      "<class 'numpy.ndarray'>\n",
      "int32\n",
      "(10,)\n"
     ]
    }
   ],
   "source": [
    "#单维数组\n",
    "a = np.arange(10)\n",
    "\n",
    "#查看数组对象类型，构成元素的类型，以及数组的维度\n",
    "print(type(a))\n",
    "print(a.dtype)\n",
    "print(a.shape)"
   ]
  },
  {
   "cell_type": "code",
   "execution_count": 6,
   "metadata": {},
   "outputs": [
    {
     "name": "stdout",
     "output_type": "stream",
     "text": [
      "[[0 1 2 3]\n",
      " [0 1 2 3]]\n",
      "(2, 4)\n"
     ]
    }
   ],
   "source": [
    "#多维数组\n",
    "m = np.array([np.arange(4),np.arange(4)])\n",
    "\n",
    "print(m)\n",
    "print(m.shape)"
   ]
  },
  {
   "cell_type": "code",
   "execution_count": 10,
   "metadata": {},
   "outputs": [
    {
     "data": {
      "text/plain": [
       "8"
      ]
     },
     "execution_count": 10,
     "metadata": {},
     "output_type": "execute_result"
    }
   ],
   "source": [
    "##多维数组元素选取\n",
    "m = np.array([np.arange(1,5),np.arange(5,9)])\n",
    "\n",
    "###选取第二行第四列的数据，同样的，数组里面的序数是从0开始计数的\n",
    "print(m[1,3])"
   ]
  },
  {
   "cell_type": "code",
   "execution_count": 19,
   "metadata": {},
   "outputs": [
    {
     "name": "stdout",
     "output_type": "stream",
     "text": [
      "[0 1 2 3 4 5 6 7 8 9]\n",
      "[4 5 6]\n",
      "[0 2 4 6 8]\n",
      "[9 8 7 6 5 4 3 2 1 0]\n"
     ]
    }
   ],
   "source": [
    "##多维数组切片\n",
    "m = np.arange(10)\n",
    "print(m)\n",
    "###切取第四至第六个元素（4，5，6号元素)，规则和原生的列表对象相似\n",
    "print(m[4:7])\n",
    "###以步长为2的方式选取元素\n",
    "print(m[::2])\n",
    "###翻转数组\n",
    "print(m[::-1])"
   ]
  },
  {
   "cell_type": "markdown",
   "metadata": {},
   "source": [
    "# 基于数组的一些运算"
   ]
  },
  {
   "cell_type": "code",
   "execution_count": 27,
   "metadata": {},
   "outputs": [
    {
     "name": "stdout",
     "output_type": "stream",
     "text": [
      "(2, 5)\n",
      "(5, 2)\n",
      "[[ 95 110]\n",
      " [150 180]]\n"
     ]
    }
   ],
   "source": [
    "#矩阵乘法\n",
    "m = np.array([[1,2,3,4,5],[6,6,6,6,6]])\n",
    "n = np.array([[1,2],[3,4],[5,6],[7,8],[9,10]])\n",
    "print(m.shape)\n",
    "print(n.shape)\n",
    "print(np.matmul(m,n))\n"
   ]
  },
  {
   "cell_type": "code",
   "execution_count": 21,
   "metadata": {},
   "outputs": [
    {
     "data": {
      "text/plain": [
       "-2.0000000000000004"
      ]
     },
     "execution_count": 21,
     "metadata": {},
     "output_type": "execute_result"
    }
   ],
   "source": [
    "#计算行列式\n",
    "##生成一个方阵\n",
    "m = np.array([[1,2],[3,4]])\n",
    "\n",
    "#导入线性代数相关的方法\n",
    "from numpy import linalg\n",
    "\n",
    "#计算行列式的值\n",
    "linalg.det(m)\n",
    "\n",
    "##有了行列式，意味着我们可以计算任意维度的超平面相交形成的n维体的体积了。\n"
   ]
  },
  {
   "cell_type": "code",
   "execution_count": 25,
   "metadata": {},
   "outputs": [
    {
     "data": {
      "text/plain": [
       "(array([1., 2., 3.]), array([[1., 0., 0.],\n",
       "        [0., 1., 0.],\n",
       "        [0., 0., 1.]]))"
      ]
     },
     "execution_count": 25,
     "metadata": {},
     "output_type": "execute_result"
    }
   ],
   "source": [
    "#计算特征值\n",
    "m = np.array([[1,0,0],[0,2,0],[0,0,3]])\n",
    "linalg.eig(m)\n",
    "#返回的对象为一个数组，其中第一维是其特征值，第二维是其特征向量组"
   ]
  },
  {
   "cell_type": "markdown",
   "metadata": {},
   "source": [
    "## 可以发现，其实numpy可以当做一个功能非常强大的计算器，"
   ]
  }
 ],
 "metadata": {
  "kernelspec": {
   "display_name": "Python 3",
   "language": "python",
   "name": "python3"
  },
  "language_info": {
   "codemirror_mode": {
    "name": "ipython",
    "version": 3
   },
   "file_extension": ".py",
   "mimetype": "text/x-python",
   "name": "python",
   "nbconvert_exporter": "python",
   "pygments_lexer": "ipython3",
   "version": "3.6.5"
  }
 },
 "nbformat": 4,
 "nbformat_minor": 2
}
